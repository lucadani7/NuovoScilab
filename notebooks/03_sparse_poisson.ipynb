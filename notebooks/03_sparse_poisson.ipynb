{
 "cells": [
  {
   "cell_type": "code",
   "execution_count": null,
   "id": "6a7f8994",
   "metadata": {},
   "outputs": [],
   "source": [
    "from src.cfd.sparse_poisson import solve_poisson\n",
    "import matplotlib.pyplot as plt\n",
    "\n",
    "x, u = solve_poisson(n=100)\n",
    "\n",
    "plt.plot(x, u, label=\"Poisson solution\")\n",
    "plt.legend()\n",
    "plt.grid()\n",
    "plt.title(\"Poisson 1D equation with Dirichlet conditions\")\n",
    "plt.xlabel(\"x\")\n",
    "plt.ylabel(\"u(x)\")\n",
    "plt.grid()\n",
    "plt.legend()\n",
    "plt.show()\n"
   ]
  }
 ],
 "metadata": {},
 "nbformat": 4,
 "nbformat_minor": 5
}
