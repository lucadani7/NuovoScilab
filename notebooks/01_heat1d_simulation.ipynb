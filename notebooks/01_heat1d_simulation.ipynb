{
 "cells": [
  {
   "cell_type": "code",
   "execution_count": null,
   "id": "4448073a",
   "metadata": {},
   "outputs": [],
   "source": [
    "from src.cfd.heat1d import simulate_heat1d\n",
    "import matplotlib.pyplot as plt\n",
    "\n",
    "x, u0, uf = simulate_heat1d(n=100, alpha=0.02, t_end=1.0)\n",
    "\n",
    "plt.plot(x, u0, label=\"Initial\")\n",
    "plt.plot(x, uf, label=\"Final\")\n",
    "plt.title(\"Simulation of warm equation 1D\")\n",
    "plt.xlabel(\"x\")\n",
    "plt.ylabel(\"Temperature u(x)\")\n",
    "plt.legend()\n",
    "plt.grid()\n",
    "plt.show()\n"
   ]
  }
 ],
 "metadata": {},
 "nbformat": 4,
 "nbformat_minor": 5
}
