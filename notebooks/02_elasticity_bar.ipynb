{
 "cells": [
  {
   "cell_type": "code",
   "execution_count": null,
   "id": "82598dd9",
   "metadata": {},
   "outputs": [],
   "source": [
    "from src.cfd.elasticity_solver import simulate_elastic_bar\n",
    "\n",
    "E, A, L, F = 200e9, 0.01, 1.0, 1000\n",
    "u = simulate_elastic_bar(E, A, L, F)\n",
    "\n",
    "print(f\"Displacement: {u:.6f} m\")\n"
   ]
  }
 ],
 "metadata": {},
 "nbformat": 4,
 "nbformat_minor": 5
}
